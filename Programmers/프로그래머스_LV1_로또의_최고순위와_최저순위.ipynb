{
 "cells": [
  {
   "cell_type": "markdown",
   "id": "f655b032",
   "metadata": {},
   "source": [
    "# 로또의 최고순위와 최저순위"
   ]
  },
  {
   "cell_type": "code",
   "execution_count": 137,
   "id": "b70b62de",
   "metadata": {},
   "outputs": [],
   "source": [
    "def sol2(cnt):\n",
    "    rank = 1\n",
    "    win = 6\n",
    "    while True:\n",
    "        if cnt == win:\n",
    "            break\n",
    "        else:\n",
    "            rank += 1\n",
    "            win -= 1\n",
    "    if rank >= 6:\n",
    "        rank = 6\n",
    "    return rank"
   ]
  },
  {
   "cell_type": "code",
   "execution_count": 138,
   "id": "9753bfc1",
   "metadata": {},
   "outputs": [
    {
     "data": {
      "text/plain": [
       "6"
      ]
     },
     "execution_count": 138,
     "metadata": {},
     "output_type": "execute_result"
    }
   ],
   "source": [
    "sol2(0)"
   ]
  },
  {
   "cell_type": "code",
   "execution_count": 139,
   "id": "83302172",
   "metadata": {},
   "outputs": [],
   "source": [
    "def solution(lottos, win_nums):\n",
    "    cnt = 0\n",
    "    zero = 0\n",
    "\n",
    "    for i in lottos:\n",
    "        for j in win_nums:\n",
    "            if i == j:\n",
    "                cnt += 1\n",
    "        if i == 0:\n",
    "            zero += 1\n",
    "        highest = zero + cnt\n",
    "    answer = []\n",
    "    answer.append([sol2(highest), sol2(cnt)])\n",
    "    return answer[0]"
   ]
  },
  {
   "cell_type": "code",
   "execution_count": 140,
   "id": "6887f718",
   "metadata": {},
   "outputs": [
    {
     "data": {
      "text/plain": [
       "[3, 5]"
      ]
     },
     "execution_count": 140,
     "metadata": {},
     "output_type": "execute_result"
    }
   ],
   "source": [
    "lottos = [44, 1, 0, 0, 31, 25]\n",
    "win_nums = [31, 10, 45, 1, 6, 19]\n",
    "solution(lottos, win_nums)"
   ]
  },
  {
   "cell_type": "code",
   "execution_count": 141,
   "id": "c2ee9f39",
   "metadata": {},
   "outputs": [
    {
     "data": {
      "text/plain": [
       "[1, 6]"
      ]
     },
     "execution_count": 141,
     "metadata": {},
     "output_type": "execute_result"
    }
   ],
   "source": [
    "lottos = [0,0,0,0,0,0]\n",
    "win_nums = [38, 19, 20, 40, 15, 25]\n",
    "solution(lottos, win_nums)"
   ]
  },
  {
   "cell_type": "code",
   "execution_count": 142,
   "id": "692cf808",
   "metadata": {},
   "outputs": [
    {
     "data": {
      "text/plain": [
       "[1, 1]"
      ]
     },
     "execution_count": 142,
     "metadata": {},
     "output_type": "execute_result"
    }
   ],
   "source": [
    "lottos = [45, 4, 35, 20, 3, 9]\n",
    "win_nums = [20, 9, 3, 45, 4, 35]\n",
    "solution(lottos, win_nums)"
   ]
  },
  {
   "cell_type": "markdown",
   "id": "5897d833",
   "metadata": {},
   "source": [
    "풀이\n",
    "\n",
    "sol2\n",
    "- win 을 6부터 cnt (로또와 일치하는 번호 개수) 와 같아질 때 까지\n",
    "- rank를 1씩 더하고, win을 1씩 뺌\n",
    "- rank가 6 이상이면 6으로 고정\n",
    "\n",
    "solution\n",
    "- lottos 리스트를 하나씩 돌면서  win_nums의 리스트 값과 같은 값이 있다면\n",
    "- cnt 를 1씩 늘림 (=로또와 일치하는 번호 개수)\n",
    "- lottos 리스트에서 0의 개수 : zero\n",
    "- highest는 로또와 일치하는 번호 개수에서 zero 값 만큼 더한 값\n",
    "- sol2 함수에 넣어서 나온 rank 값을 반환"
   ]
  },
  {
   "cell_type": "markdown",
   "id": "a278dbb4",
   "metadata": {},
   "source": [
    "-------\n",
    "다른 풀이"
   ]
  },
  {
   "cell_type": "code",
   "execution_count": 143,
   "id": "5772b74c",
   "metadata": {},
   "outputs": [],
   "source": [
    "def solution(lottos, win_nums):\n",
    "\n",
    "    rank=[6,6,5,4,3,2,1]\n",
    "\n",
    "    cnt_0 = lottos.count(0)\n",
    "    ans = 0\n",
    "    for x in win_nums:\n",
    "        if x in lottos:\n",
    "            ans += 1\n",
    "    return rank[cnt_0 + ans],rank[ans]"
   ]
  },
  {
   "cell_type": "code",
   "execution_count": 144,
   "id": "dc1be1f3",
   "metadata": {},
   "outputs": [
    {
     "data": {
      "text/plain": [
       "(1, 1)"
      ]
     },
     "execution_count": 144,
     "metadata": {},
     "output_type": "execute_result"
    }
   ],
   "source": [
    "lottos = [45, 4, 35, 20, 3, 9]\n",
    "win_nums = [20, 9, 3, 45, 4, 35]\n",
    "solution(lottos, win_nums)"
   ]
  },
  {
   "cell_type": "markdown",
   "id": "0a30a533",
   "metadata": {},
   "source": [
    "풀이\n",
    "\n",
    "1. sol2 함수를 => rank = [6,6,5,4,3,2,1]로 간단히 할 수 있었음...\n",
    "\n",
    "2. 0의 개수를 셀 때 count함수로 한 것\n",
    "\n",
    "3. if x in lottos 로 리스트에 있는 값을 확인할 수 있음"
   ]
  },
  {
   "cell_type": "code",
   "execution_count": null,
   "id": "7b7fb741",
   "metadata": {},
   "outputs": [],
   "source": []
  }
 ],
 "metadata": {
  "kernelspec": {
   "display_name": "Python 3 (ipykernel)",
   "language": "python",
   "name": "python3"
  },
  "language_info": {
   "codemirror_mode": {
    "name": "ipython",
    "version": 3
   },
   "file_extension": ".py",
   "mimetype": "text/x-python",
   "name": "python",
   "nbconvert_exporter": "python",
   "pygments_lexer": "ipython3",
   "version": "3.9.12"
  }
 },
 "nbformat": 4,
 "nbformat_minor": 5
}
