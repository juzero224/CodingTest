{
 "cells": [
  {
   "cell_type": "markdown",
   "id": "a8e2ee8d",
   "metadata": {},
   "source": [
    "N x M 크기의 얼음 틀이 있다. 구멍이 뚫려 있는 부분은 0, 칸막이가 존재하는 부분은 1로 표시된다.\n",
    "구멍이 뚫려 있는 부분끼리 상, 하, 좌, 우로 붙어 있는 경우 서로 연결되어 있는 것으로 간주한다.\n",
    "이때 얼음 틀의 모양이 주어졌을 때 생성되는 총 아이스크림의 개수를 구하는 프로그램을 작성하시오.\n",
    "다음의 4x5 얼음 틀 예시에서는 아이스크림 총 3개 생성된다."
   ]
  },
  {
   "cell_type": "markdown",
   "id": "3703ae2e",
   "metadata": {},
   "source": [
    "```\n",
    "00110\n",
    "00011\n",
    "11111\n",
    "00000\n",
    "```"
   ]
  },
  {
   "cell_type": "markdown",
   "id": "f1ad3461",
   "metadata": {},
   "source": [
    "입력 조건\n",
    "- 첫 번째 줄에 얼음틀의 새로 길이 N과 가로 길이 M이 주어진다. (1 <= N, M <= 1000)\n",
    "- 두 번째 줄부터 N+1번째 줄까지 얼음 틀의 형태가 주어진다.\n",
    "- 이때 구멍이 뚫려있는 부분은 0 , 그렇지 않은 부분은 1이다.\n",
    "\n",
    "출력 조건\n",
    "- 한 번에 만들 수 있는 아이스크림 개수를 출력한다."
   ]
  },
  {
   "cell_type": "code",
   "execution_count": null,
   "id": "609df8f9",
   "metadata": {},
   "outputs": [],
   "source": [
    "1. 0인 곳에서 상하좌우를 살펴서 0이면 한 묶음.\n",
    "2. 한번 살펴본 0이면 안됨. 살펴보지 않은 0이어야 함\n",
    "3. 그다음 0에서 또 상하좌우 살펴봄 ...\n",
    "4. 그다음 0이 없다면 묶음 끝"
   ]
  },
  {
   "cell_type": "markdown",
   "id": "a8e9dfff",
   "metadata": {},
   "source": [
    "입력 예시\n",
    "```\n",
    "15 14\n",
    "00000111100000\n",
    "11111101111110\n",
    "11011101101110\n",
    "11011101100000\n",
    "11011111111111\n",
    "11011111111100\n",
    "11000000011111\n",
    "01111111111111\n",
    "00000000011111\n",
    "01111111111000\n",
    "00011111111000\n",
    "00000001111000\n",
    "11111111110011\n",
    "11100011111111\n",
    "11100011111111\n",
    "```\n",
    "출력 예시\n",
    "```\n",
    "8\n",
    "```"
   ]
  },
  {
   "cell_type": "code",
   "execution_count": null,
   "id": "b1b7ef95",
   "metadata": {},
   "outputs": [],
   "source": [
    "'''\n",
    "00110\n",
    "00011\n",
    "11111\n",
    "00000\n",
    "\n",
    "1. 0일 경우만 탐색\n",
    "2. 0인데 아직 방문하지 않은 지점이 있으면 방문\n",
    "3. 방문한 지점에서 다시 주위를 살펴서 방문 진행\n",
    "'''"
   ]
  },
  {
   "cell_type": "code",
   "execution_count": 11,
   "id": "4936ecb7",
   "metadata": {},
   "outputs": [
    {
     "name": "stdout",
     "output_type": "stream",
     "text": [
      "4 5\n",
      "00110\n",
      "00011\n",
      "11111\n",
      "00000\n",
      "3\n"
     ]
    }
   ],
   "source": [
    "N, M = map(int, input().split())\n",
    "\n",
    "# 얼음 틀 입력\n",
    "ice = [list(map(int, input())) for _ in range(N)]\n",
    "# print(ice)\n",
    "\n",
    "# DFS 메서드 정의            \n",
    "def dfs(x,y):\n",
    "    # 범위를 벗어나면 종료\n",
    "    if x<0 or x>=N or y<0 or y>=M:\n",
    "        return False\n",
    "    # 현재 노드가 0이라면 (방문하지 않았다면)\n",
    "    if ice[x][y] == 0:\n",
    "        # 방문 처리\n",
    "        ice[x][y] = 1\n",
    "        # 주위를 살펴봄\n",
    "        dfs(x-1,y)\n",
    "        dfs(x,y-1)\n",
    "        dfs(x+1,y)\n",
    "        dfs(x,y+1)\n",
    "        return True\n",
    "    return False\n",
    "\n",
    "# 얼음 틀 탐색\n",
    "result=0\n",
    "for i in range(N):\n",
    "    for j in range(M):\n",
    "        if dfs(i,j)==True:\n",
    "            result += 1\n",
    "\n",
    "\n",
    "print(result)"
   ]
  },
  {
   "cell_type": "code",
   "execution_count": null,
   "id": "ef03b941",
   "metadata": {},
   "outputs": [],
   "source": []
  },
  {
   "cell_type": "markdown",
   "id": "8c2f74ae",
   "metadata": {},
   "source": [
    "------------\n",
    "DFS 예제"
   ]
  },
  {
   "cell_type": "code",
   "execution_count": null,
   "id": "c80c51e8",
   "metadata": {},
   "outputs": [],
   "source": [
    "# DFS 메서드 정의\n",
    "def dfs(graph, v, visited):\n",
    "    # 현재 노드를 방문 처리\n",
    "    visited[v] = True\n",
    "    print(v, end=' ')\n",
    "    # 현재 노드와 연결된 다른 노드를 재귀적으로 방문\n",
    "    for i in graph[v]:\n",
    "        if not visited[i]:\n",
    "            dfs(graph, i , visited)\n",
    "            \n",
    "# 각 노드가 연결된 정보를 리스트 자료형으로 표현(2차원 리스트)\n",
    "graph = [\n",
    "    [],  # 0이 연결된 노드\n",
    "    [2,3,8],  # 1이 연결된 노드\n",
    "    [1,7],  # 2가 연결된 노드 ...\n",
    "    [1,4,5],\n",
    "    [3,5],\n",
    "    [3,4],\n",
    "    [7],\n",
    "    [2,6,8],\n",
    "    [1,7]\n",
    "]\n",
    "\n",
    "# 각 노드가 방문한 정보를 리스트 자료형으로 표현(1차원 리스트)\n",
    "visited = [False]*9\n",
    "\n",
    "# 정의된 DFS 함수 호출\n",
    "dfs(graph, 1, visited)"
   ]
  }
 ],
 "metadata": {
  "kernelspec": {
   "display_name": "Python 3 (ipykernel)",
   "language": "python",
   "name": "python3"
  },
  "language_info": {
   "codemirror_mode": {
    "name": "ipython",
    "version": 3
   },
   "file_extension": ".py",
   "mimetype": "text/x-python",
   "name": "python",
   "nbconvert_exporter": "python",
   "pygments_lexer": "ipython3",
   "version": "3.9.12"
  }
 },
 "nbformat": 4,
 "nbformat_minor": 5
}
