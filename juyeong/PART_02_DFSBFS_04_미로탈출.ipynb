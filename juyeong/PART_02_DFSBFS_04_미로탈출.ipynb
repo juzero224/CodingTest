{
 "cells": [
  {
   "cell_type": "markdown",
   "id": "ef99eace",
   "metadata": {},
   "source": [
    "## 04 미로탈출"
   ]
  },
  {
   "cell_type": "markdown",
   "id": "50b66815",
   "metadata": {},
   "source": [
    "N x M 크기의 직사각형 형태의 미로에 갇혀 있다. \n",
    "미로에는 여러 마리의 괴물이 있어 이를 피해 탈출해야 한다.\n",
    "동빈이의 위치는 (1,1)이고 미로의 출구는 (N,M)의 위치에 존재하며 한번에 한 칸씩 이동할 수 있다.\n",
    "이때 괴물이 있는 부분은 0으로, 괴물이 없는 부분은 1로 표히되어 있다.\n",
    "미로는 반드시 탈출할 수 있는 형태로 제시된다.\n",
    "동빈이가 탈출하기 위해 움직여야 하는 최소 칸의 개수\n",
    "칸을 셀 때는 시작 칸과 마지막 칸을 모두 포함해서 계산"
   ]
  },
  {
   "cell_type": "markdown",
   "id": "73efd9e5",
   "metadata": {},
   "source": [
    "입력 조건\n",
    "- 첫째 줄에 두 정수 N, M (4<= N, M <=200)이 주어짐. \n",
    "다음 N개의 줄에는 각각 M개의 정수 (0혹은 1)로 미로의 정보가 주어짐\n",
    "각각의 수들은 공백없이 붙어서 입력으로 제시됨. \n",
    "또한 시작 칸과 마지막 칸은 항상 1\n",
    "\n",
    "출력 조건\n",
    "- 첫째 줄에 최소 이동 칸의 개수를 출력한다."
   ]
  },
  {
   "cell_type": "markdown",
   "id": "b4a18abc",
   "metadata": {},
   "source": [
    "입력 예시\n",
    "```\n",
    "5 6\n",
    "101010\n",
    "111111\n",
    "000001\n",
    "111111\n",
    "111111\n",
    "```\n",
    "출력 예시\n",
    "```\n",
    "10\n",
    "```"
   ]
  },
  {
   "cell_type": "code",
   "execution_count": null,
   "id": "bcf5ba48",
   "metadata": {},
   "outputs": [],
   "source": [
    "'''\n",
    "(1,1) 에서 시작 1 -> 다음 노드 2 -> 최단 경로 찾기 3\n",
    "'''"
   ]
  },
  {
   "cell_type": "code",
   "execution_count": null,
   "id": "749058ce",
   "metadata": {},
   "outputs": [],
   "source": [
    "\n",
    "\n",
    "# N, M을 공백으로 구분하여 입력받기\n",
    "N, M = \n",
    "\n",
    "# 2차원 리스트의 맵 정보 입력받기\n",
    "route = \n",
    "\n",
    "# 이동할 네 방향 정의 (상, 하, 좌, 우)\n",
    "\n",
    "# BFS 메서드 정의\n",
    "def bfs(x,y):\n",
    "    # 큐(Queue) 구현을 위해 deuqe 라이브러리 사용\n",
    "\n",
    "    \n",
    "    # 큐가 빌 때까지 반복\n",
    "    \n",
    "        # 큐에서 하나의 원소를 뽑아 출력\n",
    "        \n",
    "        # 현재 위치에서 네 방향으로의 위치 확인\n",
    "        \n",
    "            # 미로 찾기 공간을 벗어난 경우 무시\n",
    "            \n",
    "            # 괴물이 있는 경우 피하기\n",
    "            \n",
    "            # 해당 노드를 처음 방문하는 경우에만 최단 거리 기록\n",
    "            \n",
    "    # 가장 오른쪽 아래까지의 최단 거리 반환\n",
    "    \n",
    "\n",
    "# BFS를 수행한 결과 출력\n",
    "print(bfs(0,0))"
   ]
  },
  {
   "cell_type": "markdown",
   "id": "72319bad",
   "metadata": {},
   "source": [
    "--------------------------\n",
    "정답"
   ]
  },
  {
   "cell_type": "code",
   "execution_count": 8,
   "id": "0aa2a536",
   "metadata": {},
   "outputs": [
    {
     "name": "stdout",
     "output_type": "stream",
     "text": [
      "5 6\n",
      "101010\n",
      "111111\n",
      "000001\n",
      "111111\n",
      "111111\n",
      "10\n"
     ]
    }
   ],
   "source": [
    "from collections import deque\n",
    "\n",
    "# N, M을 공백으로 구분하여 입력받기\n",
    "N, M = map(int, input().split())\n",
    "\n",
    "# 2차원 리스트의 맵 정보 입력받기\n",
    "route = [list(map(int, input())) for _ in range(N)]\n",
    "\n",
    "# 이동할 네 방향 정의 (상, 하, 좌, 우)\n",
    "dx = [-1, 1, 0, 0]\n",
    "dy = [0, 0, -1, 1]\n",
    "\n",
    "# BFS 메서드 정의\n",
    "def bfs(x,y):\n",
    "    # 큐(Queue) 구현을 위해 deuqe 라이브러리 사용\n",
    "    queue = deque()\n",
    "    queue.append((x,y))\n",
    "    \n",
    "    # 큐가 빌 때까지 반복\n",
    "    while queue:\n",
    "        # 큐에서 하나의 원소를 뽑아 출력\n",
    "        x, y = queue.popleft()\n",
    "        # 현재 위치에서 네 방향으로의 위치 확인\n",
    "        for i in range(4):\n",
    "            nx = x + dx[i]\n",
    "            ny = y + dy[i]\n",
    "            # 미로 찾기 공간을 벗어난 경우 무시\n",
    "            if nx < 0 or nx >= N or ny < 0 or ny >= M:\n",
    "                continue\n",
    "            # 괴물이 있는 경우 피하기\n",
    "            if route[nx][ny] == 0:\n",
    "                continue\n",
    "            # 해당 노드를 처음 방문하는 경우에만 최단 거리 기록\n",
    "            if route[nx][ny] == 1:\n",
    "                route[nx][ny] = route[x][y] + 1\n",
    "                queue.append((nx,ny))\n",
    "    # 가장 오른쪽 아래까지의 최단 거리 반환\n",
    "    return route[N-1][M-1]\n",
    "\n",
    "# BFS를 수행한 결과 출력\n",
    "print(bfs(0,0))"
   ]
  },
  {
   "cell_type": "code",
   "execution_count": null,
   "id": "fddd863e",
   "metadata": {},
   "outputs": [],
   "source": []
  },
  {
   "cell_type": "markdown",
   "id": "9ee25151",
   "metadata": {},
   "source": [
    "----------------------\n",
    "BFS 예제"
   ]
  },
  {
   "cell_type": "code",
   "execution_count": 2,
   "id": "f6c395b1",
   "metadata": {},
   "outputs": [
    {
     "name": "stdout",
     "output_type": "stream",
     "text": [
      "1 2 3 8 7 4 5 6 "
     ]
    }
   ],
   "source": [
    "from collections import deque\n",
    "\n",
    "# BFS 메서드 정의\n",
    "def bfs(graph, start, visited):\n",
    "    # 큐(Queue) 구현을 위해 deque 라이브러리 사용\n",
    "    queue = deque([start])\n",
    "    # 현재 노드를 방문 처리\n",
    "    visited[start] = True\n",
    "    # 큐가 빌 떄까지 반복\n",
    "    while queue:\n",
    "        # 큐에서 하나의 원소를 뽑아 출력\n",
    "        v = queue.popleft()\n",
    "        print(v, end=' ')\n",
    "        # 해당 원소와 연결된, 아직 방문하지 않은 원소들을 큐에 삽입\n",
    "        for i in graph[v]:\n",
    "            if not visited[i]:\n",
    "                queue.append(i)\n",
    "                visited[i] = True\n",
    "\n",
    "# 각 노드가 연결된 정보를 리스트 자료형으로 표현 (2차원 리스트)\n",
    "graph = [\n",
    "    [],\n",
    "    [2,3,8],\n",
    "    [1,7],\n",
    "    [1,4,5],\n",
    "    [3,5],\n",
    "    [3,4],\n",
    "    [7],\n",
    "    [2,6,8],\n",
    "    [1,7]\n",
    "]\n",
    "\n",
    "# 각 노드가 방문된 정보를 리스트 자료형으로 표현 (1차원 리스트)\n",
    "visited = [False] * 9\n",
    "\n",
    "# 정의된 BFS 함수 호출\n",
    "bfs(graph, 1, visited)"
   ]
  },
  {
   "cell_type": "code",
   "execution_count": null,
   "id": "8828a8fc",
   "metadata": {},
   "outputs": [],
   "source": []
  }
 ],
 "metadata": {
  "kernelspec": {
   "display_name": "Python 3 (ipykernel)",
   "language": "python",
   "name": "python3"
  },
  "language_info": {
   "codemirror_mode": {
    "name": "ipython",
    "version": 3
   },
   "file_extension": ".py",
   "mimetype": "text/x-python",
   "name": "python",
   "nbconvert_exporter": "python",
   "pygments_lexer": "ipython3",
   "version": "3.9.12"
  }
 },
 "nbformat": 4,
 "nbformat_minor": 5
}
